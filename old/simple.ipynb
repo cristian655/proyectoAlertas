{
 "cells": [
  {
   "cell_type": "code",
   "execution_count": 2,
   "id": "b7f3ebe6-2863-48db-bec9-54114896d00a",
   "metadata": {},
   "outputs": [
    {
     "name": "stdin",
     "output_type": "stream",
     "text": [
      "Ingrese la fecha de revisión (YYYY-MM-DD):  2025-03-16\n",
      "Ingrese el ID de la estación:  114\n",
      "Ingrese el ID del sensor:  110\n"
     ]
    },
    {
     "name": "stdout",
     "output_type": "stream",
     "text": [
      "\n",
      "🔴 ALERTA: Se detectaron anomalías en los últimos 7 días.\n",
      "            fecha_hora  valor\n",
      "5  2025-03-13 05:00:00   7.15\n",
      "7  2025-03-13 07:00:00   7.10\n",
      "28 2025-03-14 04:00:00   7.18\n",
      "30 2025-03-14 06:00:00   7.14\n",
      "31 2025-03-14 07:00:00   7.11\n",
      "32 2025-03-14 08:00:00   7.11\n",
      "54 2025-03-15 06:00:00   7.13\n"
     ]
    }
   ],
   "source": [
    "from sqlalchemy import create_engine, text\n",
    "import pandas as pd\n",
    "import numpy as np\n",
    "from pyod.models.iforest import IForest  # Modelo Isolation Forest para detección de anomalías\n",
    "\n",
    "# Configuración de conexión a la base de datos\n",
    "DB_CONFIG = {\n",
    "    \"user\": \"root\",\n",
    "    \"password\": \"1234\",\n",
    "    \"host\": \"127.0.0.1\",\n",
    "    \"port\": \"3306\",\n",
    "    \"database\": \"gp-mlp-telemtry\"\n",
    "}\n",
    "\n",
    "# Crear la cadena de conexión\n",
    "DATABASE_URL = f\"mysql+pymysql://{DB_CONFIG['user']}:{DB_CONFIG['password']}@{DB_CONFIG['host']}:{DB_CONFIG['port']}/{DB_CONFIG['database']}\"\n",
    "engine = create_engine(DATABASE_URL)\n",
    "\n",
    "# Función para ejecutar el procedimiento almacenado y obtener datos\n",
    "def obtener_datos(estacion_id, sensor_id, fecha):\n",
    "    fecha_consulta = pd.to_datetime(fecha).strftime(\"%Y-%m-%d\")\n",
    "    \n",
    "    with engine.connect() as conn:\n",
    "        result = conn.execute(text(\"CALL `gp-mlp-telemtry`.GetSensorData(:estacion, :sensor, :periodo)\"), {\n",
    "            \"estacion\": estacion_id,\n",
    "            \"sensor\": sensor_id,\n",
    "            \"periodo\": 2  # Ajustado a un valor válido\n",
    "        })\n",
    "        datos = result.fetchall()\n",
    "        columnas = result.keys()\n",
    "    \n",
    "    # Convertir a DataFrame\n",
    "    df = pd.DataFrame(datos, columns=columnas)\n",
    "    \n",
    "    # Filtrar solo los datos hasta la fecha ingresada\n",
    "    df = df[df[\"fecha_hora\"] <= fecha_consulta]\n",
    "    \n",
    "    return df\n",
    "\n",
    "# Función para detectar anomalías con PyOD\n",
    "def detectar_anomalias(datos):\n",
    "    if len(datos) < 10:\n",
    "        print(\"No hay suficientes datos para detección de anomalías.\")\n",
    "        return pd.DataFrame()\n",
    "\n",
    "    # Convertir datos a matriz NumPy para el modelo\n",
    "    X = datos[\"valor\"].values.reshape(-1, 1)\n",
    "\n",
    "    # Modelo de PyOD: Isolation Forest\n",
    "    modelo = IForest(contamination=0.1)  # Ajustar 'contamination' según necesidad\n",
    "    modelo.fit(X)\n",
    "\n",
    "    # Obtener predicciones\n",
    "    datos[\"anomaly\"] = modelo.predict(X)\n",
    "\n",
    "    # Filtrar anomalías\n",
    "    anomalías = datos[datos[\"anomaly\"] == 1]  # 1 indica anomalía en PyOD\n",
    "    \n",
    "    return anomalías\n",
    "\n",
    "if __name__ == \"__main__\":\n",
    "    fecha_revision = input(\"Ingrese la fecha de revisión (YYYY-MM-DD): \")\n",
    "    estacion_id = int(input(\"Ingrese el ID de la estación: \"))\n",
    "    sensor_id = int(input(\"Ingrese el ID del sensor: \"))\n",
    "\n",
    "    # Obtener datos llamando al procedimiento almacenado\n",
    "    datos = obtener_datos(estacion_id, sensor_id, fecha_revision)\n",
    "\n",
    "    if datos.empty:\n",
    "        print(\"No se encontraron datos en la base de datos.\")\n",
    "    else:\n",
    "        # Detectar anomalías\n",
    "        alertas = detectar_anomalias(datos)\n",
    "\n",
    "        if not alertas.empty:\n",
    "            print(\"\\n🔴 ALERTA: Se detectaron anomalías en los últimos 7 días.\")\n",
    "            print(alertas[[\"fecha_hora\", \"valor\"]])\n",
    "        else:\n",
    "            print(\"\\n✅ No se detectaron anomalías en los últimos 7 días.\")\n",
    "\n"
   ]
  },
  {
   "cell_type": "code",
   "execution_count": null,
   "id": "1b581f02-7ed5-42d0-ac6f-e1bfc6ad8bfd",
   "metadata": {},
   "outputs": [],
   "source": []
  }
 ],
 "metadata": {
  "kernelspec": {
   "display_name": "Python 3 (ipykernel)",
   "language": "python",
   "name": "python3"
  },
  "language_info": {
   "codemirror_mode": {
    "name": "ipython",
    "version": 3
   },
   "file_extension": ".py",
   "mimetype": "text/x-python",
   "name": "python",
   "nbconvert_exporter": "python",
   "pygments_lexer": "ipython3",
   "version": "3.13.1"
  }
 },
 "nbformat": 4,
 "nbformat_minor": 5
}
