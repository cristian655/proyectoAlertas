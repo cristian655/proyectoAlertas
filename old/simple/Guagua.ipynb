{
 "cells": [
  {
   "cell_type": "code",
   "execution_count": 1,
   "id": "f45747a2-4562-463d-97d1-3a0175c59b68",
   "metadata": {},
   "outputs": [
    {
     "name": "stdout",
     "output_type": "stream",
     "text": [
      "        estacion sensor          fecha_hora  valor tipo_variable  unidad  \\\n",
      "0     Pozo APR-B     pH 2025-01-01 00:00:00   7.22            pH   u. pH   \n",
      "1     Pozo APR-B     pH 2025-01-01 01:00:00   7.22            pH   u. pH   \n",
      "2     Pozo APR-B     pH 2025-01-01 02:00:00   7.20            pH   u. pH   \n",
      "3     Pozo APR-B     pH 2025-01-01 03:00:00   7.19            pH   u. pH   \n",
      "4     Pozo APR-B     pH 2025-01-01 04:00:00   7.17            pH   u. pH   \n",
      "...          ...    ...                 ...    ...           ...     ...   \n",
      "1782  Pozo APR-B     pH 2025-03-16 06:00:00   7.12            pH   u. pH   \n",
      "1783  Pozo APR-B     pH 2025-03-16 07:00:00   7.10            pH   u. pH   \n",
      "1784  Pozo APR-B     pH 2025-03-16 08:00:00   7.22            pH   u. pH   \n",
      "1785  Pozo APR-B     pH 2025-03-16 09:00:00   7.22            pH   u. pH   \n",
      "1786  Pozo APR-B     pH 2025-03-16 10:00:00   7.20            pH   u. pH   \n",
      "\n",
      "      yAxis  limite_superior  limite_inferior  decimales  decimales_serie  \\\n",
      "0         1             14.0              0.0          0                2   \n",
      "1         1             14.0              0.0          0                2   \n",
      "2         1             14.0              0.0          0                2   \n",
      "3         1             14.0              0.0          0                2   \n",
      "4         1             14.0              0.0          0                2   \n",
      "...     ...              ...              ...        ...              ...   \n",
      "1782      1             14.0              0.0          0                2   \n",
      "1783      1             14.0              0.0          0                2   \n",
      "1784      1             14.0              0.0          0                2   \n",
      "1785      1             14.0              0.0          0                2   \n",
      "1786      1             14.0              0.0          0                2   \n",
      "\n",
      "      plotlines  nota plotData  id_estacion  \n",
      "0             0  None     None          114  \n",
      "1             0  None     None          114  \n",
      "2             0  None     None          114  \n",
      "3             0  None     None          114  \n",
      "4             0  None     None          114  \n",
      "...         ...   ...      ...          ...  \n",
      "1782          0  None     None          114  \n",
      "1783          0  None     None          114  \n",
      "1784          0  None     None          114  \n",
      "1785          0  None     None          114  \n",
      "1786          0  None     None          114  \n",
      "\n",
      "[1787 rows x 15 columns]\n"
     ]
    }
   ],
   "source": [
    "from sqlalchemy import create_engine, text\n",
    "import pandas as pd\n",
    "\n",
    "# Configuración de conexión a la base de datos\n",
    "DB_CONFIG = {\n",
    "    \"user\": \"root\",\n",
    "    \"password\": \"1234\",\n",
    "    \"host\": \"127.0.0.1\",\n",
    "    \"port\": \"3306\",\n",
    "    \"database\": \"gp-mlp-telemtry\"\n",
    "}\n",
    "\n",
    "# Crear la cadena de conexión\n",
    "DATABASE_URL = f\"mysql+pymysql://{DB_CONFIG['user']}:{DB_CONFIG['password']}@{DB_CONFIG['host']}:{DB_CONFIG['port']}/{DB_CONFIG['database']}\"\n",
    "engine = create_engine(DATABASE_URL)\n",
    "\n",
    "# Función para ejecutar el procedimiento almacenado y obtener datos\n",
    "def ejecutar_procedimiento():\n",
    "    with engine.connect() as conn:\n",
    "        result = conn.execute(text(\"CALL `gp-mlp-telemtry`.GetSensorData(:estacion, :sensor, :periodo)\"), {\n",
    "            \"estacion\": 114,\n",
    "            \"sensor\": 110,\n",
    "            \"periodo\": 3\n",
    "        })\n",
    "        datos = result.fetchall()\n",
    "        columnas = result.keys()\n",
    "    \n",
    "    # Convertir a DataFrame y mostrar resultados\n",
    "    df = pd.DataFrame(datos, columns=columnas)\n",
    "    return df\n",
    "\n",
    "if __name__ == \"__main__\":\n",
    "    datos = ejecutar_procedimiento()\n",
    "    if datos.empty:\n",
    "        print(\"No se encontraron datos.\")\n",
    "    else:\n",
    "        print(datos)"
   ]
  },
  {
   "cell_type": "code",
   "execution_count": null,
   "id": "c7a154f9-040e-438e-ba04-12e2cd45c09b",
   "metadata": {},
   "outputs": [],
   "source": []
  }
 ],
 "metadata": {
  "kernelspec": {
   "display_name": "Python 3 (ipykernel)",
   "language": "python",
   "name": "python3"
  },
  "language_info": {
   "codemirror_mode": {
    "name": "ipython",
    "version": 3
   },
   "file_extension": ".py",
   "mimetype": "text/x-python",
   "name": "python",
   "nbconvert_exporter": "python",
   "pygments_lexer": "ipython3",
   "version": "3.13.1"
  }
 },
 "nbformat": 4,
 "nbformat_minor": 5
}
