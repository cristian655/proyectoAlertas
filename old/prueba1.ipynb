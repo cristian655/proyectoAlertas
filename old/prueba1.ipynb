{
 "cells": [
  {
   "cell_type": "code",
   "execution_count": 1,
   "id": "49ec524b-df66-4a58-b3d4-f9a2c2487eab",
   "metadata": {},
   "outputs": [],
   "source": [
    "from sqlalchemy import create_engine, text\n",
    "import pandas as pd\n",
    "import numpy as np\n",
    "from pyod.models.iforest import IForest  # Modelo Isolation Forest para detección de anomalías\n"
   ]
  },
  {
   "cell_type": "code",
   "execution_count": 2,
   "id": "da2ff327-6c7c-418f-852d-5615bbe4818d",
   "metadata": {},
   "outputs": [],
   "source": [
    "# Configuración de conexión a la base de datos con SQLAlchemy\n",
    "DB_CONFIG = {\n",
    "    \"user\": \"root\",\n",
    "    \"password\": \"1234\",\n",
    "    \"host\": \"127.0.0.1\",\n",
    "    \"port\": \"3306\",\n",
    "    \"database\": \"gp-mlp-telemtry\"  # Cambiado a la base de datos correcta\n",
    "}\n",
    "# Crear la cadena de conexión para SQLAlchemy\n",
    "DATABASE_URL = f\"mysql+pymysql://{DB_CONFIG['user']}:{DB_CONFIG['password']}@{DB_CONFIG['host']}:{DB_CONFIG['port']}/{DB_CONFIG['database']}\"\n",
    "engine = create_engine(DATABASE_URL)\n"
   ]
  },
  {
   "cell_type": "code",
   "execution_count": 3,
   "id": "79bcc519-7898-4f05-88ee-5d585888aa98",
   "metadata": {},
   "outputs": [
    {
     "name": "stdin",
     "output_type": "stream",
     "text": [
      "Ingrese la fecha de revisión (YYYY-MM-DD):  2025-03-05\n",
      "Ingrese el ID de la estación:  114\n",
      "Ingrese el ID del sensor:  110\n"
     ]
    },
    {
     "name": "stdout",
     "output_type": "stream",
     "text": [
      "No se encontraron datos en la base de datos.\n"
     ]
    }
   ],
   "source": [
    "# Función para llamar al procedimiento almacenado y obtener los datos\n",
    "def obtener_datos_procedimiento(estacion_id, sensor_id, fecha):\n",
    "    fecha_consulta = pd.to_datetime(fecha).strftime(\"%Y-%m-%d\")\n",
    "\n",
    "    with engine.connect() as conn:\n",
    "        result = conn.execute(text(\"CALL GetSensorData(:estacion, :sensor, :periodo)\"), {\n",
    "            \"estacion\": estacion_id,\n",
    "            \"sensor\": sensor_id,\n",
    "            \"periodo\": 2  # Últimos 7 días\n",
    "        })\n",
    "        datos = result.fetchall()\n",
    "        columnas = result.keys()  # Obtener los nombres de las columnas\n",
    "\n",
    "    # Convertir a DataFrame\n",
    "    df = pd.DataFrame(datos, columns=columnas)\n",
    "\n",
    "    # Filtrar solo los datos hasta la fecha ingresada\n",
    "    df = df[df[\"fecha_hora\"] <= fecha_consulta]\n",
    "\n",
    "    return df\n",
    "\n",
    "# Función para detectar anomalías con PyOD\n",
    "def detectar_anomalias(datos):\n",
    "    if len(datos) < 10:\n",
    "        print(\"No hay suficientes datos para detección de anomalías.\")\n",
    "        return []\n",
    "\n",
    "    # Convertir datos a matriz NumPy para el modelo\n",
    "    X = datos[\"valor\"].values.reshape(-1, 1)\n",
    "\n",
    "    # Modelo de PyOD: Isolation Forest\n",
    "    modelo = IForest(contamination=0.1)  # Ajusta 'contamination' según necesidad\n",
    "    modelo.fit(X)\n",
    "\n",
    "    # Obtener predicciones\n",
    "    datos[\"anomaly\"] = modelo.predict(X)\n",
    "\n",
    "    # Revisar los últimos 3 valores\n",
    "    ultimos_3 = datos.tail(3)\n",
    "    alertas = ultimos_3[ultimos_3[\"anomaly\"] == -1]\n",
    "\n",
    "    return alertas\n",
    "\n",
    "# 🚀 **Código Principal**\n",
    "if __name__ == \"__main__\":\n",
    "    # Pedir datos al usuario\n",
    "    fecha_revision = input(\"Ingrese la fecha de revisión (YYYY-MM-DD): \")\n",
    "    estacion_id = int(input(\"Ingrese el ID de la estación: \"))\n",
    "    sensor_id = int(input(\"Ingrese el ID del sensor: \"))\n",
    "\n",
    "    # Obtener datos llamando al procedimiento almacenado\n",
    "    datos = obtener_datos_procedimiento(estacion_id, sensor_id, fecha_revision)\n",
    "\n",
    "    if datos.empty:\n",
    "        print(\"No se encontraron datos en la base de datos.\")\n",
    "    else:\n",
    "        # Detectar anomalías\n",
    "        alertas = detectar_anomalias(datos)\n",
    "\n",
    "        if not alertas.empty:\n",
    "            print(\"\\n🔴 ALERTA: Se detectaron anomalías en los últimos 3 registros.\")\n",
    "            print(alertas)\n",
    "        else:\n",
    "            print(\"\\n✅ No se detectaron anomalías en los últimos 3 registros.\")"
   ]
  },
  {
   "cell_type": "code",
   "execution_count": null,
   "id": "5304c891-359a-42d8-a637-2426781da13f",
   "metadata": {},
   "outputs": [],
   "source": []
  }
 ],
 "metadata": {
  "kernelspec": {
   "display_name": "Python 3 (ipykernel)",
   "language": "python",
   "name": "python3"
  },
  "language_info": {
   "codemirror_mode": {
    "name": "ipython",
    "version": 3
   },
   "file_extension": ".py",
   "mimetype": "text/x-python",
   "name": "python",
   "nbconvert_exporter": "python",
   "pygments_lexer": "ipython3",
   "version": "3.13.1"
  }
 },
 "nbformat": 4,
 "nbformat_minor": 5
}
