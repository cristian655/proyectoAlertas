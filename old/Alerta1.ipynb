{
 "cells": [
  {
   "cell_type": "code",
   "execution_count": 2,
   "id": "32888619-11f5-4b9c-9318-570ad8041d73",
   "metadata": {},
   "outputs": [],
   "source": [
    "import pandas as pd\n",
    "import numpy as np\n",
    "import time\n",
    "from pyod.models.iforest import IForest  # Isolation Forest para detección de anomalías\n"
   ]
  },
  {
   "cell_type": "code",
   "execution_count": 3,
   "id": "c2ba2184-bedf-40b2-a659-5ce8986d9600",
   "metadata": {},
   "outputs": [
    {
     "name": "stdout",
     "output_type": "stream",
     "text": [
      "¡Anomalías detectadas!\n",
      "                   Fecha  Valor\n",
      "65   2025-01-03 17:00:00   6.12\n",
      "66   2025-01-03 18:00:00   6.10\n",
      "136  2025-01-06 16:00:00   6.10\n",
      "137  2025-01-06 17:00:00   6.01\n",
      "138  2025-01-06 18:00:00   5.96\n",
      "...                  ...    ...\n",
      "1781 2025-03-15 07:00:00   8.17\n",
      "1782 2025-03-15 08:00:00   8.25\n",
      "1783 2025-03-15 09:00:00   8.30\n",
      "1784 2025-03-15 10:00:00   8.29\n",
      "1807 2025-03-16 09:00:00   8.13\n",
      "\n",
      "[90 rows x 2 columns]\n"
     ]
    },
    {
     "name": "stderr",
     "output_type": "stream",
     "text": [
      "C:\\Users\\Cristian Gonzalez\\AppData\\Roaming\\Python\\Python313\\site-packages\\sklearn\\utils\\validation.py:2732: UserWarning: X has feature names, but IsolationForest was fitted without feature names\n",
      "  warnings.warn(\n"
     ]
    }
   ],
   "source": [
    "file_path = \"C:/Users/Cristian Gonzalez/Desktop/Alertas/datos.xlsx\"\n",
    "df = pd.read_excel(file_path, sheet_name=\"Hoja1\")\n",
    "variable_interes = \"pH\"\n",
    "df = df[df[\"Tipo variable\"] == variable_interes]\n",
    "df[\"Valor\"] = pd.to_numeric(df[\"Valor\"], errors=\"coerce\")\n",
    "df = df.dropna()\n",
    "\n",
    "media = df[\"Valor\"].mean()\n",
    "desviacion = df[\"Valor\"].std()\n",
    "df['valor_norm'] = (df[\"Valor\"] - media) / desviacion\n",
    "\n",
    "modelo = IForest(contamination=0.05, random_state=42)\n",
    "modelo.fit(df[['valor_norm']])\n",
    "\n",
    "df['anomaly'] = modelo.predict(df[['valor_norm']])\n",
    "\n",
    "anomalies = df[df['anomaly'] == 1]\n",
    "\n",
    "if not anomalies.empty:\n",
    "    print(\"¡Anomalías detectadas!\")\n",
    "    print(anomalies[[\"Fecha\", \"Valor\"]])\n",
    "else:\n",
    "    print(\"No se detectaron anomalías.\")\n"
   ]
  },
  {
   "cell_type": "code",
   "execution_count": null,
   "id": "a2ba972b-62fd-4f8b-9484-923a13fb5964",
   "metadata": {},
   "outputs": [],
   "source": []
  }
 ],
 "metadata": {
  "kernelspec": {
   "display_name": "Python 3 (ipykernel)",
   "language": "python",
   "name": "python3"
  },
  "language_info": {
   "codemirror_mode": {
    "name": "ipython",
    "version": 3
   },
   "file_extension": ".py",
   "mimetype": "text/x-python",
   "name": "python",
   "nbconvert_exporter": "python",
   "pygments_lexer": "ipython3",
   "version": "3.13.1"
  }
 },
 "nbformat": 4,
 "nbformat_minor": 5
}
